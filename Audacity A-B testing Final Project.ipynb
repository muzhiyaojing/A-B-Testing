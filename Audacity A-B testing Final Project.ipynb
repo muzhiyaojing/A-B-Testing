{
 "cells": [
  {
   "cell_type": "code",
   "execution_count": 31,
   "metadata": {},
   "outputs": [],
   "source": [
    "import numpy as np\n",
    "import pandas as pd\n",
    "from pandas import DataFrame, Series\n",
    "from scipy.stats import norm\n",
    "import math as mt\n"
   ]
  },
  {
   "cell_type": "markdown",
   "metadata": {},
   "source": [
    "### Analytical Estimate of Standard Deviation for Evaluation Metrics"
   ]
  },
  {
   "cell_type": "code",
   "execution_count": null,
   "metadata": {},
   "outputs": [],
   "source": [
    "baseline = {'cookie':40000,'clicks':3200,'enrollments':660,'CTP':0.08,'GCoversion':0.20625,'retention':0.53,'NConversion':0.109313}"
   ]
  },
  {
   "cell_type": "code",
   "execution_count": null,
   "metadata": {},
   "outputs": [],
   "source": [
    "baseline['cookie']=5000\n",
    "baseline['clicks']=baseline['clicks']*5000/40000\n",
    "baseline['enrollments']=baseline['enrollments']*5000/40000\n",
    "baseline"
   ]
  },
  {
   "cell_type": "markdown",
   "metadata": {},
   "source": [
    "##### Standard Deviaiton of Gross Conversion"
   ]
  },
  {
   "cell_type": "code",
   "execution_count": null,
   "metadata": {},
   "outputs": [],
   "source": [
    "GC={}\n",
    "GC['dmin']=0.01\n",
    "GC['p']=baseline['GCoversion']\n",
    "GC['n']=baseline['clicks']\n",
    "GC['sd'] = round(mt.sqrt((GC['p']*(1-GC['p'])/GC['n'])),4)\n",
    "GC['sd']"
   ]
  },
  {
   "cell_type": "markdown",
   "metadata": {},
   "source": [
    "##### Standard Deviation of Retention"
   ]
  },
  {
   "cell_type": "code",
   "execution_count": null,
   "metadata": {},
   "outputs": [],
   "source": [
    "RT = {}\n",
    "RT['dmin']=0.01\n",
    "RT['p']=baseline['retention']\n",
    "RT['n']=baseline['enrollments']\n",
    "RT['sd']=round(mt.sqrt((RT['p']*(1-RT['p'])/RT['n'])),4)\n",
    "RT['sd']"
   ]
  },
  {
   "cell_type": "markdown",
   "metadata": {},
   "source": [
    "##### Standard Deviation of Net Conversion"
   ]
  },
  {
   "cell_type": "code",
   "execution_count": null,
   "metadata": {},
   "outputs": [],
   "source": [
    "NC = {}\n",
    "NC['dmin']=0.0075\n",
    "NC['p']=baseline['NConversion']\n",
    "NC['n']=baseline['clicks']\n",
    "NC['sd']=round(mt.sqrt((NC['p']*(1-NC['p'])/NC['n'])),4)\n",
    "NC['sd']"
   ]
  },
  {
   "cell_type": "markdown",
   "metadata": {},
   "source": [
    "### Read experiment data"
   ]
  },
  {
   "cell_type": "code",
   "execution_count": 19,
   "metadata": {},
   "outputs": [
    {
     "data": {
      "text/html": [
       "<div>\n",
       "<style scoped>\n",
       "    .dataframe tbody tr th:only-of-type {\n",
       "        vertical-align: middle;\n",
       "    }\n",
       "\n",
       "    .dataframe tbody tr th {\n",
       "        vertical-align: top;\n",
       "    }\n",
       "\n",
       "    .dataframe thead th {\n",
       "        text-align: right;\n",
       "    }\n",
       "</style>\n",
       "<table border=\"1\" class=\"dataframe\">\n",
       "  <thead>\n",
       "    <tr style=\"text-align: right;\">\n",
       "      <th></th>\n",
       "      <th>Date</th>\n",
       "      <th>Pageviews</th>\n",
       "      <th>Clicks</th>\n",
       "      <th>Enrollments</th>\n",
       "      <th>Payments</th>\n",
       "    </tr>\n",
       "  </thead>\n",
       "  <tbody>\n",
       "    <tr>\n",
       "      <th>0</th>\n",
       "      <td>Sat, Oct 11</td>\n",
       "      <td>7723</td>\n",
       "      <td>687</td>\n",
       "      <td>134.0</td>\n",
       "      <td>70.0</td>\n",
       "    </tr>\n",
       "    <tr>\n",
       "      <th>1</th>\n",
       "      <td>Sun, Oct 12</td>\n",
       "      <td>9102</td>\n",
       "      <td>779</td>\n",
       "      <td>147.0</td>\n",
       "      <td>70.0</td>\n",
       "    </tr>\n",
       "    <tr>\n",
       "      <th>2</th>\n",
       "      <td>Mon, Oct 13</td>\n",
       "      <td>10511</td>\n",
       "      <td>909</td>\n",
       "      <td>167.0</td>\n",
       "      <td>95.0</td>\n",
       "    </tr>\n",
       "    <tr>\n",
       "      <th>3</th>\n",
       "      <td>Tue, Oct 14</td>\n",
       "      <td>9871</td>\n",
       "      <td>836</td>\n",
       "      <td>156.0</td>\n",
       "      <td>105.0</td>\n",
       "    </tr>\n",
       "    <tr>\n",
       "      <th>4</th>\n",
       "      <td>Wed, Oct 15</td>\n",
       "      <td>10014</td>\n",
       "      <td>837</td>\n",
       "      <td>163.0</td>\n",
       "      <td>64.0</td>\n",
       "    </tr>\n",
       "  </tbody>\n",
       "</table>\n",
       "</div>"
      ],
      "text/plain": [
       "          Date  Pageviews  Clicks  Enrollments  Payments\n",
       "0  Sat, Oct 11       7723     687        134.0      70.0\n",
       "1  Sun, Oct 12       9102     779        147.0      70.0\n",
       "2  Mon, Oct 13      10511     909        167.0      95.0\n",
       "3  Tue, Oct 14       9871     836        156.0     105.0\n",
       "4  Wed, Oct 15      10014     837        163.0      64.0"
      ]
     },
     "execution_count": 19,
     "metadata": {},
     "output_type": "execute_result"
    }
   ],
   "source": [
    "# Read data from control group\n",
    "control = pd.read_excel('/users/nanwang/downloads/Final_Project_Data.xlsx',sheet_name='Control')\n",
    "control.head()"
   ]
  },
  {
   "cell_type": "code",
   "execution_count": 20,
   "metadata": {
    "scrolled": true
   },
   "outputs": [
    {
     "data": {
      "text/html": [
       "<div>\n",
       "<style scoped>\n",
       "    .dataframe tbody tr th:only-of-type {\n",
       "        vertical-align: middle;\n",
       "    }\n",
       "\n",
       "    .dataframe tbody tr th {\n",
       "        vertical-align: top;\n",
       "    }\n",
       "\n",
       "    .dataframe thead th {\n",
       "        text-align: right;\n",
       "    }\n",
       "</style>\n",
       "<table border=\"1\" class=\"dataframe\">\n",
       "  <thead>\n",
       "    <tr style=\"text-align: right;\">\n",
       "      <th></th>\n",
       "      <th>Date</th>\n",
       "      <th>Pageviews</th>\n",
       "      <th>Clicks</th>\n",
       "      <th>Enrollments</th>\n",
       "      <th>Payments</th>\n",
       "    </tr>\n",
       "  </thead>\n",
       "  <tbody>\n",
       "    <tr>\n",
       "      <th>0</th>\n",
       "      <td>Sat, Oct 11</td>\n",
       "      <td>7716</td>\n",
       "      <td>686</td>\n",
       "      <td>105.0</td>\n",
       "      <td>34.0</td>\n",
       "    </tr>\n",
       "    <tr>\n",
       "      <th>1</th>\n",
       "      <td>Sun, Oct 12</td>\n",
       "      <td>9288</td>\n",
       "      <td>785</td>\n",
       "      <td>116.0</td>\n",
       "      <td>91.0</td>\n",
       "    </tr>\n",
       "    <tr>\n",
       "      <th>2</th>\n",
       "      <td>Mon, Oct 13</td>\n",
       "      <td>10480</td>\n",
       "      <td>884</td>\n",
       "      <td>145.0</td>\n",
       "      <td>79.0</td>\n",
       "    </tr>\n",
       "    <tr>\n",
       "      <th>3</th>\n",
       "      <td>Tue, Oct 14</td>\n",
       "      <td>9867</td>\n",
       "      <td>827</td>\n",
       "      <td>138.0</td>\n",
       "      <td>92.0</td>\n",
       "    </tr>\n",
       "    <tr>\n",
       "      <th>4</th>\n",
       "      <td>Wed, Oct 15</td>\n",
       "      <td>9793</td>\n",
       "      <td>832</td>\n",
       "      <td>140.0</td>\n",
       "      <td>94.0</td>\n",
       "    </tr>\n",
       "  </tbody>\n",
       "</table>\n",
       "</div>"
      ],
      "text/plain": [
       "          Date  Pageviews  Clicks  Enrollments  Payments\n",
       "0  Sat, Oct 11       7716     686        105.0      34.0\n",
       "1  Sun, Oct 12       9288     785        116.0      91.0\n",
       "2  Mon, Oct 13      10480     884        145.0      79.0\n",
       "3  Tue, Oct 14       9867     827        138.0      92.0\n",
       "4  Wed, Oct 15       9793     832        140.0      94.0"
      ]
     },
     "execution_count": 20,
     "metadata": {},
     "output_type": "execute_result"
    }
   ],
   "source": [
    "# Read data from experiment group\n",
    "experiment = pd.read_excel('/users/nanwang/downloads/Final_Project_Data.xlsx',sheet_name='Experiment')\n",
    "experiment.head()"
   ]
  },
  {
   "cell_type": "markdown",
   "metadata": {},
   "source": [
    "### Sanity Check "
   ]
  },
  {
   "cell_type": "markdown",
   "metadata": {},
   "source": [
    "To verify if the experiment is set up correctly\n",
    "We have three invariant metrics: \n",
    "Number of Cookies in Course Overview Page\n",
    "Number of Clicks on Free Trial Button\n",
    "Free Trial button Click-Through-Probability"
   ]
  },
  {
   "cell_type": "markdown",
   "metadata": {},
   "source": [
    "##### Sanity Check for Number of Cookies in Course Overview Page"
   ]
  },
  {
   "cell_type": "markdown",
   "metadata": {},
   "source": [
    "The possibility of cookies in control group and experiment group should be the same, which is 0.5\n",
    "The distribution is binomial distribution"
   ]
  },
  {
   "cell_type": "code",
   "execution_count": 41,
   "metadata": {},
   "outputs": [
    {
     "name": "stdout",
     "output_type": "stream",
     "text": [
      "PASS Sanity Check\n"
     ]
    }
   ],
   "source": [
    "p = 0.5\n",
    "alpha = 0.05\n",
    "Control_PageViews_Total=control['Pageviews'].sum()\n",
    "Experiment_PageViews_Total=experiment['Pageviews'].sum()\n",
    "pageViews_total = Control_PageViews_Total +Experiment_PageViews_Total\n",
    "observed_p = Control_PageViews_Total/pageViews_total\n",
    "sd = mt.sqrt(p*(1-p)/pageViews_total)\n",
    "margin_error = norm.ppf(1-alpha/2)*sd\n",
    "upper_boundary = p + margin_error\n",
    "lower_boundary = p - margin_error\n",
    "if (observed_p<=upper_boundary and observed_p>=lower_boundary):\n",
    "    print ('PASS Sanity Check')\n",
    "else: print('FAIL Sanity Check')"
   ]
  },
  {
   "cell_type": "markdown",
   "metadata": {},
   "source": [
    "##### Sanity Check for Number of Clicks on Free Trial Button"
   ]
  },
  {
   "cell_type": "markdown",
   "metadata": {},
   "source": [
    "The possibility of clicks in control group and experiment group should be the same, which is 0.5\n",
    "The distribution is binomial distribution"
   ]
  },
  {
   "cell_type": "code",
   "execution_count": 42,
   "metadata": {},
   "outputs": [
    {
     "name": "stdout",
     "output_type": "stream",
     "text": [
      "PASS Sanity Check\n"
     ]
    }
   ],
   "source": [
    "p = 0.5\n",
    "alpha = 0.05\n",
    "control_clicks = control['Clicks'].sum()\n",
    "experiment_clicks = experiment['Clicks'].sum()\n",
    "clicks_total = control_clicks +experiment_clicks\n",
    "observed_clicks_p = control_clicks/clicks_total\n",
    "sd = mt.sqrt(p*(1-p)/observed_clicks_p)\n",
    "margin_error = norm.ppf(1-alpha/2)*sd\n",
    "upper_boundary = p+margin_error\n",
    "lower_boundary = p - margin_error\n",
    "if (observed_clicks_p<=upper_boundary and observed_clicks_p>=lower_boundary):\n",
    "    print ('PASS Sanity Check')\n",
    "else: print('FAIL Sanity Check')"
   ]
  },
  {
   "cell_type": "markdown",
   "metadata": {},
   "source": [
    "##### Sanity Check for Free Trial button Click-Through-Probability"
   ]
  },
  {
   "cell_type": "markdown",
   "metadata": {},
   "source": [
    "H0: Control Click-Through-Probability - Experiment: Click-Through-Probability = 0\n",
    "H1: Control Click-Through-Probability - Experiment: Click-Through-Probability != 0"
   ]
  },
  {
   "cell_type": "code",
   "execution_count": 48,
   "metadata": {},
   "outputs": [
    {
     "name": "stdout",
     "output_type": "stream",
     "text": [
      "PASS Sanity Check\n"
     ]
    }
   ],
   "source": [
    "alpha=0.05\n",
    "p_control = control_clicks/Control_PageViews_Total\n",
    "p_experiment = experiment_clicks/Experiment_PageViews_Total\n",
    "d_hat = abs(round(p_control - p_experiment,4))\n",
    "p_pooled = (control_clicks+experiment_clicks)/(Control_PageViews_Total+Experiment_PageViews_Total)\n",
    "sd_pool = mt.sqrt(p_pooled*(1-p_pooled)*(1/Control_PageViews_Total+1/Experiment_PageViews_Total))\n",
    "margin_error = norm.ppf(1-alpha/2)*sd_pool\n",
    "margin_error\n",
    "if (d_hat<=margin_error and d_hat>=-margin_error):\n",
    "    print ('PASS Sanity Check')\n",
    "else: print('FAIL Sanity Check')"
   ]
  },
  {
   "cell_type": "markdown",
   "metadata": {},
   "source": [
    "### Examine Effect Size\n",
    "\n",
    "A metric is statistically significant if the confidence interval does not include 0, and it is practical significant if the confidence interval does not include the practical significance boundary."
   ]
  },
  {
   "cell_type": "code",
   "execution_count": 50,
   "metadata": {
    "scrolled": true
   },
   "outputs": [
    {
     "data": {
      "text/html": [
       "<div>\n",
       "<style scoped>\n",
       "    .dataframe tbody tr th:only-of-type {\n",
       "        vertical-align: middle;\n",
       "    }\n",
       "\n",
       "    .dataframe tbody tr th {\n",
       "        vertical-align: top;\n",
       "    }\n",
       "\n",
       "    .dataframe thead th {\n",
       "        text-align: right;\n",
       "    }\n",
       "</style>\n",
       "<table border=\"1\" class=\"dataframe\">\n",
       "  <thead>\n",
       "    <tr style=\"text-align: right;\">\n",
       "      <th></th>\n",
       "      <th>Date</th>\n",
       "      <th>Pageviews</th>\n",
       "      <th>Clicks</th>\n",
       "      <th>Enrollments</th>\n",
       "      <th>Payments</th>\n",
       "    </tr>\n",
       "  </thead>\n",
       "  <tbody>\n",
       "    <tr>\n",
       "      <th>0</th>\n",
       "      <td>Sat, Oct 11</td>\n",
       "      <td>7716</td>\n",
       "      <td>686</td>\n",
       "      <td>105.0</td>\n",
       "      <td>34.0</td>\n",
       "    </tr>\n",
       "    <tr>\n",
       "      <th>1</th>\n",
       "      <td>Sun, Oct 12</td>\n",
       "      <td>9288</td>\n",
       "      <td>785</td>\n",
       "      <td>116.0</td>\n",
       "      <td>91.0</td>\n",
       "    </tr>\n",
       "    <tr>\n",
       "      <th>2</th>\n",
       "      <td>Mon, Oct 13</td>\n",
       "      <td>10480</td>\n",
       "      <td>884</td>\n",
       "      <td>145.0</td>\n",
       "      <td>79.0</td>\n",
       "    </tr>\n",
       "    <tr>\n",
       "      <th>3</th>\n",
       "      <td>Tue, Oct 14</td>\n",
       "      <td>9867</td>\n",
       "      <td>827</td>\n",
       "      <td>138.0</td>\n",
       "      <td>92.0</td>\n",
       "    </tr>\n",
       "    <tr>\n",
       "      <th>4</th>\n",
       "      <td>Wed, Oct 15</td>\n",
       "      <td>9793</td>\n",
       "      <td>832</td>\n",
       "      <td>140.0</td>\n",
       "      <td>94.0</td>\n",
       "    </tr>\n",
       "    <tr>\n",
       "      <th>5</th>\n",
       "      <td>Thu, Oct 16</td>\n",
       "      <td>9500</td>\n",
       "      <td>788</td>\n",
       "      <td>129.0</td>\n",
       "      <td>61.0</td>\n",
       "    </tr>\n",
       "    <tr>\n",
       "      <th>6</th>\n",
       "      <td>Fri, Oct 17</td>\n",
       "      <td>9088</td>\n",
       "      <td>780</td>\n",
       "      <td>127.0</td>\n",
       "      <td>44.0</td>\n",
       "    </tr>\n",
       "    <tr>\n",
       "      <th>7</th>\n",
       "      <td>Sat, Oct 18</td>\n",
       "      <td>7664</td>\n",
       "      <td>652</td>\n",
       "      <td>94.0</td>\n",
       "      <td>62.0</td>\n",
       "    </tr>\n",
       "    <tr>\n",
       "      <th>8</th>\n",
       "      <td>Sun, Oct 19</td>\n",
       "      <td>8434</td>\n",
       "      <td>697</td>\n",
       "      <td>120.0</td>\n",
       "      <td>77.0</td>\n",
       "    </tr>\n",
       "    <tr>\n",
       "      <th>9</th>\n",
       "      <td>Mon, Oct 20</td>\n",
       "      <td>10496</td>\n",
       "      <td>860</td>\n",
       "      <td>153.0</td>\n",
       "      <td>98.0</td>\n",
       "    </tr>\n",
       "    <tr>\n",
       "      <th>10</th>\n",
       "      <td>Tue, Oct 21</td>\n",
       "      <td>10551</td>\n",
       "      <td>864</td>\n",
       "      <td>143.0</td>\n",
       "      <td>71.0</td>\n",
       "    </tr>\n",
       "    <tr>\n",
       "      <th>11</th>\n",
       "      <td>Wed, Oct 22</td>\n",
       "      <td>9737</td>\n",
       "      <td>801</td>\n",
       "      <td>128.0</td>\n",
       "      <td>70.0</td>\n",
       "    </tr>\n",
       "    <tr>\n",
       "      <th>12</th>\n",
       "      <td>Thu, Oct 23</td>\n",
       "      <td>8176</td>\n",
       "      <td>642</td>\n",
       "      <td>122.0</td>\n",
       "      <td>68.0</td>\n",
       "    </tr>\n",
       "    <tr>\n",
       "      <th>13</th>\n",
       "      <td>Fri, Oct 24</td>\n",
       "      <td>9402</td>\n",
       "      <td>697</td>\n",
       "      <td>194.0</td>\n",
       "      <td>94.0</td>\n",
       "    </tr>\n",
       "    <tr>\n",
       "      <th>14</th>\n",
       "      <td>Sat, Oct 25</td>\n",
       "      <td>8669</td>\n",
       "      <td>669</td>\n",
       "      <td>127.0</td>\n",
       "      <td>81.0</td>\n",
       "    </tr>\n",
       "    <tr>\n",
       "      <th>15</th>\n",
       "      <td>Sun, Oct 26</td>\n",
       "      <td>8881</td>\n",
       "      <td>693</td>\n",
       "      <td>153.0</td>\n",
       "      <td>101.0</td>\n",
       "    </tr>\n",
       "    <tr>\n",
       "      <th>16</th>\n",
       "      <td>Mon, Oct 27</td>\n",
       "      <td>9655</td>\n",
       "      <td>771</td>\n",
       "      <td>213.0</td>\n",
       "      <td>119.0</td>\n",
       "    </tr>\n",
       "    <tr>\n",
       "      <th>17</th>\n",
       "      <td>Tue, Oct 28</td>\n",
       "      <td>9396</td>\n",
       "      <td>736</td>\n",
       "      <td>162.0</td>\n",
       "      <td>120.0</td>\n",
       "    </tr>\n",
       "    <tr>\n",
       "      <th>18</th>\n",
       "      <td>Wed, Oct 29</td>\n",
       "      <td>9262</td>\n",
       "      <td>727</td>\n",
       "      <td>201.0</td>\n",
       "      <td>96.0</td>\n",
       "    </tr>\n",
       "    <tr>\n",
       "      <th>19</th>\n",
       "      <td>Thu, Oct 30</td>\n",
       "      <td>9308</td>\n",
       "      <td>728</td>\n",
       "      <td>207.0</td>\n",
       "      <td>67.0</td>\n",
       "    </tr>\n",
       "    <tr>\n",
       "      <th>20</th>\n",
       "      <td>Fri, Oct 31</td>\n",
       "      <td>8715</td>\n",
       "      <td>722</td>\n",
       "      <td>182.0</td>\n",
       "      <td>123.0</td>\n",
       "    </tr>\n",
       "    <tr>\n",
       "      <th>21</th>\n",
       "      <td>Sat, Nov 1</td>\n",
       "      <td>8448</td>\n",
       "      <td>695</td>\n",
       "      <td>142.0</td>\n",
       "      <td>100.0</td>\n",
       "    </tr>\n",
       "    <tr>\n",
       "      <th>22</th>\n",
       "      <td>Sun, Nov 2</td>\n",
       "      <td>8836</td>\n",
       "      <td>724</td>\n",
       "      <td>182.0</td>\n",
       "      <td>103.0</td>\n",
       "    </tr>\n",
       "  </tbody>\n",
       "</table>\n",
       "</div>"
      ],
      "text/plain": [
       "           Date  Pageviews  Clicks  Enrollments  Payments\n",
       "0   Sat, Oct 11       7716     686        105.0      34.0\n",
       "1   Sun, Oct 12       9288     785        116.0      91.0\n",
       "2   Mon, Oct 13      10480     884        145.0      79.0\n",
       "3   Tue, Oct 14       9867     827        138.0      92.0\n",
       "4   Wed, Oct 15       9793     832        140.0      94.0\n",
       "5   Thu, Oct 16       9500     788        129.0      61.0\n",
       "6   Fri, Oct 17       9088     780        127.0      44.0\n",
       "7   Sat, Oct 18       7664     652         94.0      62.0\n",
       "8   Sun, Oct 19       8434     697        120.0      77.0\n",
       "9   Mon, Oct 20      10496     860        153.0      98.0\n",
       "10  Tue, Oct 21      10551     864        143.0      71.0\n",
       "11  Wed, Oct 22       9737     801        128.0      70.0\n",
       "12  Thu, Oct 23       8176     642        122.0      68.0\n",
       "13  Fri, Oct 24       9402     697        194.0      94.0\n",
       "14  Sat, Oct 25       8669     669        127.0      81.0\n",
       "15  Sun, Oct 26       8881     693        153.0     101.0\n",
       "16  Mon, Oct 27       9655     771        213.0     119.0\n",
       "17  Tue, Oct 28       9396     736        162.0     120.0\n",
       "18  Wed, Oct 29       9262     727        201.0      96.0\n",
       "19  Thu, Oct 30       9308     728        207.0      67.0\n",
       "20  Fri, Oct 31       8715     722        182.0     123.0\n",
       "21   Sat, Nov 1       8448     695        142.0     100.0\n",
       "22   Sun, Nov 2       8836     724        182.0     103.0"
      ]
     },
     "execution_count": 50,
     "metadata": {},
     "output_type": "execute_result"
    }
   ],
   "source": [
    "# Clean data -- Only keep the records that went through payment\n",
    "controlNoNull = control.dropna()\n",
    "experimentNoNull = experiment.dropna()\n",
    "experimentNoNull"
   ]
  },
  {
   "cell_type": "markdown",
   "metadata": {},
   "source": [
    "##### Effect Size Check for Gross Conversion -- Number of enrollments/number of clicks\n",
    "\n",
    "The gross conversion rate should go down in experiment group, since number of frustrated student decreases"
   ]
  },
  {
   "cell_type": "code",
   "execution_count": 54,
   "metadata": {},
   "outputs": [
    {
     "name": "stdout",
     "output_type": "stream",
     "text": [
      "Confidence Interval: [ 0.011986548273218463 , 0.02912320088750467 ]\n"
     ]
    }
   ],
   "source": [
    "enrollment_control = controlNoNull['Enrollments'].sum()\n",
    "clicks_control= controlNoNull['Clicks'].sum()\n",
    "enrollment_experiment = experimentNoNull['Enrollments'].sum()\n",
    "clicks_experiment = experimentNoNull['Clicks'].sum()\n",
    "control_gross_conversion = enrollment_control/clicks_control\n",
    "experiment_gross_conversion = enrollment_experiment/clicks_experiment\n",
    "d_hat = control_gross_conversion - experiment_gross_conversion\n",
    "GC_pooled = (enrollment_control+enrollment_experiment)/(clicks_control+clicks_experiment)\n",
    "GC_sd_pooled = mt.sqrt(GC_pooled*(1-GC_pooled)*(1/clicks_control+1/clicks_experiment))\n",
    "margin_error = norm.ppf(1-alpha/2)*GC_sd_pooled\n",
    "print(\"Confidence Interval: [\",d_hat-margin_error,\",\",d_hat+margin_error,\"]\")\n"
   ]
  },
  {
   "cell_type": "markdown",
   "metadata": {},
   "source": [
    "###### Gross Conversion: dmin = 0.01. The result shows it is statistical significant and practical significant."
   ]
  },
  {
   "cell_type": "markdown",
   "metadata": {},
   "source": [
    "##### Effect Size Check for Net conversion -- Number of payment/number of clicks\n",
    "\n",
    "The net conversion rate should go up in experiment group"
   ]
  },
  {
   "cell_type": "code",
   "execution_count": 55,
   "metadata": {},
   "outputs": [
    {
     "name": "stdout",
     "output_type": "stream",
     "text": [
      "Confidence Interval: [ -0.0018570553289053993 , 0.011604500677993734 ]\n"
     ]
    }
   ],
   "source": [
    "payment_control = controlNoNull['Payments'].sum()\n",
    "payment_experiment = experimentNoNull['Payments'].sum()\n",
    "control_net_conversion = payment_control/clicks_control\n",
    "experiment_net_conversion = payment_experiment/clicks_experiment\n",
    "d_hat = control_net_conversion - experiment_net_conversion\n",
    "GC_pooled = (payment_control+payment_experiment)/(clicks_control+clicks_experiment)\n",
    "GC_sd_pooled = mt.sqrt(GC_pooled*(1-GC_pooled)*(1/clicks_control+1/clicks_experiment))\n",
    "margin_error = norm.ppf(1-alpha/2)*GC_sd_pooled\n",
    "print(\"Confidence Interval: [\",d_hat-margin_error,\",\",d_hat+margin_error,\"]\")"
   ]
  },
  {
   "cell_type": "markdown",
   "metadata": {},
   "source": [
    "###### Net Conversion: dmin = 0.01 The result shows it is neither statistical significant or practical significant"
   ]
  },
  {
   "cell_type": "markdown",
   "metadata": {},
   "source": [
    "### Sign Test\n",
    "\n",
    "https://www.statisticshowto.datasciencecentral.com/sign-test/"
   ]
  },
  {
   "cell_type": "code",
   "execution_count": null,
   "metadata": {},
   "outputs": [],
   "source": []
  }
 ],
 "metadata": {
  "kernelspec": {
   "display_name": "Python 3",
   "language": "python",
   "name": "python3"
  },
  "language_info": {
   "codemirror_mode": {
    "name": "ipython",
    "version": 3
   },
   "file_extension": ".py",
   "mimetype": "text/x-python",
   "name": "python",
   "nbconvert_exporter": "python",
   "pygments_lexer": "ipython3",
   "version": "3.7.3"
  }
 },
 "nbformat": 4,
 "nbformat_minor": 2
}
